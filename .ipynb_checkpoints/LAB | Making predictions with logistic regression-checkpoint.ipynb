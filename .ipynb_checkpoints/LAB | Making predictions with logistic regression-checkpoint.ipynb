{
 "cells": [
  {
   "cell_type": "markdown",
   "id": "08cdf210",
   "metadata": {},
   "source": [
    "# LAB | Making predictions with logistic regression\n",
    "\n",
    "In this lab, you will be using the Sakila database of movie rentals.\n",
    "\n",
    "### In order to optimize our inventory, we would like to know which films will be rented next month and we are asked to create a model to predict it.\n",
    "\n",
    "Instructions\n",
    "\n",
    "1. Create a query or queries to extract the information you think may be relevant for building the prediction model. It should include some film features and some rental features. Use the data from 2005.\n",
    "2. Create a query to get the list of films and a boolean indicating if it was rented last month (August 2005). This would be our target variable.\n",
    "3. Read the data into a Pandas dataframe.\n",
    "4. Analyze extracted features and transform them. You may need to encode some categorical variables, or scale numerical variables.\n",
    "5. Create a logistic regression model to predict this variable from the cleaned data.\n",
    "6. Evaluate the results."
   ]
  },
  {
   "cell_type": "markdown",
   "id": "dd1da0a9",
   "metadata": {},
   "source": [
    "### Step 1: Import Python Libraries"
   ]
  },
  {
   "cell_type": "code",
   "execution_count": 896,
   "id": "d3cd310d",
   "metadata": {},
   "outputs": [],
   "source": [
    "# prep: import modules and get pwd\n",
    "import pymysql\n",
    "from sqlalchemy import create_engine\n",
    "import pandas as pd\n",
    "import numpy as np\n",
    "import matplotlib.pyplot as plt\n",
    "from sklearn.preprocessing import MinMaxScaler\n",
    "from sklearn.model_selection import train_test_split\n",
    "from sklearn.metrics import accuracy_score\n",
    "from sklearn.metrics import precision_score\n",
    "from sklearn.metrics import recall_score\n",
    "from sklearn.metrics import classification_report\n",
    "from sklearn.metrics import f1_score\n",
    "import seaborn as sns\n"
   ]
  },
  {
   "cell_type": "code",
   "execution_count": 897,
   "id": "cb0c5a69",
   "metadata": {},
   "outputs": [
    {
     "name": "stdout",
     "output_type": "stream",
     "text": [
      "········\n"
     ]
    }
   ],
   "source": [
    "import getpass  # To get the password without showing the input\n",
    "password = getpass.getpass()"
   ]
  },
  {
   "cell_type": "markdown",
   "id": "c23ed7bc",
   "metadata": {},
   "source": [
    "### Step 2: Read the Dataset"
   ]
  },
  {
   "cell_type": "code",
   "execution_count": 898,
   "id": "628652cc",
   "metadata": {},
   "outputs": [],
   "source": [
    "# get the data\n",
    "connection_string = 'mysql+pymysql://root:' + password + '@localhost/sakila'\n",
    "engine = create_engine(connection_string)\n",
    "\n"
   ]
  },
  {
   "cell_type": "code",
   "execution_count": 899,
   "id": "06ab9793",
   "metadata": {},
   "outputs": [
    {
     "name": "stdout",
     "output_type": "stream",
     "text": [
      "(16088, 11)\n"
     ]
    },
    {
     "data": {
      "text/html": [
       "<div>\n",
       "<style scoped>\n",
       "    .dataframe tbody tr th:only-of-type {\n",
       "        vertical-align: middle;\n",
       "    }\n",
       "\n",
       "    .dataframe tbody tr th {\n",
       "        vertical-align: top;\n",
       "    }\n",
       "\n",
       "    .dataframe thead th {\n",
       "        text-align: right;\n",
       "    }\n",
       "</style>\n",
       "<table border=\"1\" class=\"dataframe\">\n",
       "  <thead>\n",
       "    <tr style=\"text-align: right;\">\n",
       "      <th></th>\n",
       "      <th>film_id</th>\n",
       "      <th>title</th>\n",
       "      <th>language</th>\n",
       "      <th>rental_duration</th>\n",
       "      <th>rental_rate</th>\n",
       "      <th>length</th>\n",
       "      <th>rating</th>\n",
       "      <th>special_features</th>\n",
       "      <th>category</th>\n",
       "      <th>rental_date</th>\n",
       "      <th>month</th>\n",
       "    </tr>\n",
       "  </thead>\n",
       "  <tbody>\n",
       "    <tr>\n",
       "      <th>0</th>\n",
       "      <td>1</td>\n",
       "      <td>ACADEMY DINOSAUR</td>\n",
       "      <td>English</td>\n",
       "      <td>6</td>\n",
       "      <td>0.99</td>\n",
       "      <td>86</td>\n",
       "      <td>PG</td>\n",
       "      <td>Deleted Scenes,Behind the Scenes</td>\n",
       "      <td>Documentary</td>\n",
       "      <td>2005-07-08 19:03:15</td>\n",
       "      <td>7.0</td>\n",
       "    </tr>\n",
       "    <tr>\n",
       "      <th>1</th>\n",
       "      <td>1</td>\n",
       "      <td>ACADEMY DINOSAUR</td>\n",
       "      <td>English</td>\n",
       "      <td>6</td>\n",
       "      <td>0.99</td>\n",
       "      <td>86</td>\n",
       "      <td>PG</td>\n",
       "      <td>Deleted Scenes,Behind the Scenes</td>\n",
       "      <td>Documentary</td>\n",
       "      <td>2005-08-02 20:13:10</td>\n",
       "      <td>8.0</td>\n",
       "    </tr>\n",
       "    <tr>\n",
       "      <th>2</th>\n",
       "      <td>1</td>\n",
       "      <td>ACADEMY DINOSAUR</td>\n",
       "      <td>English</td>\n",
       "      <td>6</td>\n",
       "      <td>0.99</td>\n",
       "      <td>86</td>\n",
       "      <td>PG</td>\n",
       "      <td>Deleted Scenes,Behind the Scenes</td>\n",
       "      <td>Documentary</td>\n",
       "      <td>2005-08-21 21:27:43</td>\n",
       "      <td>8.0</td>\n",
       "    </tr>\n",
       "    <tr>\n",
       "      <th>3</th>\n",
       "      <td>1</td>\n",
       "      <td>ACADEMY DINOSAUR</td>\n",
       "      <td>English</td>\n",
       "      <td>6</td>\n",
       "      <td>0.99</td>\n",
       "      <td>86</td>\n",
       "      <td>PG</td>\n",
       "      <td>Deleted Scenes,Behind the Scenes</td>\n",
       "      <td>Documentary</td>\n",
       "      <td>2022-09-19 17:27:31</td>\n",
       "      <td>9.0</td>\n",
       "    </tr>\n",
       "    <tr>\n",
       "      <th>4</th>\n",
       "      <td>1</td>\n",
       "      <td>ACADEMY DINOSAUR</td>\n",
       "      <td>English</td>\n",
       "      <td>6</td>\n",
       "      <td>0.99</td>\n",
       "      <td>86</td>\n",
       "      <td>PG</td>\n",
       "      <td>Deleted Scenes,Behind the Scenes</td>\n",
       "      <td>Documentary</td>\n",
       "      <td>2005-05-30 20:21:07</td>\n",
       "      <td>5.0</td>\n",
       "    </tr>\n",
       "    <tr>\n",
       "      <th>5</th>\n",
       "      <td>1</td>\n",
       "      <td>ACADEMY DINOSAUR</td>\n",
       "      <td>English</td>\n",
       "      <td>6</td>\n",
       "      <td>0.99</td>\n",
       "      <td>86</td>\n",
       "      <td>PG</td>\n",
       "      <td>Deleted Scenes,Behind the Scenes</td>\n",
       "      <td>Documentary</td>\n",
       "      <td>2005-06-17 20:24:00</td>\n",
       "      <td>6.0</td>\n",
       "    </tr>\n",
       "    <tr>\n",
       "      <th>6</th>\n",
       "      <td>1</td>\n",
       "      <td>ACADEMY DINOSAUR</td>\n",
       "      <td>English</td>\n",
       "      <td>6</td>\n",
       "      <td>0.99</td>\n",
       "      <td>86</td>\n",
       "      <td>PG</td>\n",
       "      <td>Deleted Scenes,Behind the Scenes</td>\n",
       "      <td>Documentary</td>\n",
       "      <td>2005-07-07 10:41:31</td>\n",
       "      <td>7.0</td>\n",
       "    </tr>\n",
       "    <tr>\n",
       "      <th>7</th>\n",
       "      <td>1</td>\n",
       "      <td>ACADEMY DINOSAUR</td>\n",
       "      <td>English</td>\n",
       "      <td>6</td>\n",
       "      <td>0.99</td>\n",
       "      <td>86</td>\n",
       "      <td>PG</td>\n",
       "      <td>Deleted Scenes,Behind the Scenes</td>\n",
       "      <td>Documentary</td>\n",
       "      <td>2005-07-30 22:02:34</td>\n",
       "      <td>7.0</td>\n",
       "    </tr>\n",
       "    <tr>\n",
       "      <th>8</th>\n",
       "      <td>1</td>\n",
       "      <td>ACADEMY DINOSAUR</td>\n",
       "      <td>English</td>\n",
       "      <td>6</td>\n",
       "      <td>0.99</td>\n",
       "      <td>86</td>\n",
       "      <td>PG</td>\n",
       "      <td>Deleted Scenes,Behind the Scenes</td>\n",
       "      <td>Documentary</td>\n",
       "      <td>2005-08-23 01:01:01</td>\n",
       "      <td>8.0</td>\n",
       "    </tr>\n",
       "    <tr>\n",
       "      <th>9</th>\n",
       "      <td>1</td>\n",
       "      <td>ACADEMY DINOSAUR</td>\n",
       "      <td>English</td>\n",
       "      <td>6</td>\n",
       "      <td>0.99</td>\n",
       "      <td>86</td>\n",
       "      <td>PG</td>\n",
       "      <td>Deleted Scenes,Behind the Scenes</td>\n",
       "      <td>Documentary</td>\n",
       "      <td>2005-07-31 21:36:07</td>\n",
       "      <td>7.0</td>\n",
       "    </tr>\n",
       "    <tr>\n",
       "      <th>10</th>\n",
       "      <td>1</td>\n",
       "      <td>ACADEMY DINOSAUR</td>\n",
       "      <td>English</td>\n",
       "      <td>6</td>\n",
       "      <td>0.99</td>\n",
       "      <td>86</td>\n",
       "      <td>PG</td>\n",
       "      <td>Deleted Scenes,Behind the Scenes</td>\n",
       "      <td>Documentary</td>\n",
       "      <td>2005-08-22 23:56:37</td>\n",
       "      <td>8.0</td>\n",
       "    </tr>\n",
       "    <tr>\n",
       "      <th>11</th>\n",
       "      <td>1</td>\n",
       "      <td>ACADEMY DINOSAUR</td>\n",
       "      <td>English</td>\n",
       "      <td>6</td>\n",
       "      <td>0.99</td>\n",
       "      <td>86</td>\n",
       "      <td>PG</td>\n",
       "      <td>Deleted Scenes,Behind the Scenes</td>\n",
       "      <td>Documentary</td>\n",
       "      <td>2005-08-02 00:47:19</td>\n",
       "      <td>8.0</td>\n",
       "    </tr>\n",
       "    <tr>\n",
       "      <th>12</th>\n",
       "      <td>1</td>\n",
       "      <td>ACADEMY DINOSAUR</td>\n",
       "      <td>English</td>\n",
       "      <td>6</td>\n",
       "      <td>0.99</td>\n",
       "      <td>86</td>\n",
       "      <td>PG</td>\n",
       "      <td>Deleted Scenes,Behind the Scenes</td>\n",
       "      <td>Documentary</td>\n",
       "      <td>2005-08-21 18:32:42</td>\n",
       "      <td>8.0</td>\n",
       "    </tr>\n",
       "    <tr>\n",
       "      <th>13</th>\n",
       "      <td>1</td>\n",
       "      <td>ACADEMY DINOSAUR</td>\n",
       "      <td>English</td>\n",
       "      <td>6</td>\n",
       "      <td>0.99</td>\n",
       "      <td>86</td>\n",
       "      <td>PG</td>\n",
       "      <td>Deleted Scenes,Behind the Scenes</td>\n",
       "      <td>Documentary</td>\n",
       "      <td>NaT</td>\n",
       "      <td>NaN</td>\n",
       "    </tr>\n",
       "    <tr>\n",
       "      <th>14</th>\n",
       "      <td>1</td>\n",
       "      <td>ACADEMY DINOSAUR</td>\n",
       "      <td>English</td>\n",
       "      <td>6</td>\n",
       "      <td>0.99</td>\n",
       "      <td>86</td>\n",
       "      <td>PG</td>\n",
       "      <td>Deleted Scenes,Behind the Scenes</td>\n",
       "      <td>Documentary</td>\n",
       "      <td>2005-05-27 07:03:28</td>\n",
       "      <td>5.0</td>\n",
       "    </tr>\n",
       "    <tr>\n",
       "      <th>15</th>\n",
       "      <td>1</td>\n",
       "      <td>ACADEMY DINOSAUR</td>\n",
       "      <td>English</td>\n",
       "      <td>6</td>\n",
       "      <td>0.99</td>\n",
       "      <td>86</td>\n",
       "      <td>PG</td>\n",
       "      <td>Deleted Scenes,Behind the Scenes</td>\n",
       "      <td>Documentary</td>\n",
       "      <td>2005-06-21 00:30:26</td>\n",
       "      <td>6.0</td>\n",
       "    </tr>\n",
       "    <tr>\n",
       "      <th>16</th>\n",
       "      <td>1</td>\n",
       "      <td>ACADEMY DINOSAUR</td>\n",
       "      <td>English</td>\n",
       "      <td>6</td>\n",
       "      <td>0.99</td>\n",
       "      <td>86</td>\n",
       "      <td>PG</td>\n",
       "      <td>Deleted Scenes,Behind the Scenes</td>\n",
       "      <td>Documentary</td>\n",
       "      <td>2005-07-07 20:59:06</td>\n",
       "      <td>7.0</td>\n",
       "    </tr>\n",
       "    <tr>\n",
       "      <th>17</th>\n",
       "      <td>1</td>\n",
       "      <td>ACADEMY DINOSAUR</td>\n",
       "      <td>English</td>\n",
       "      <td>6</td>\n",
       "      <td>0.99</td>\n",
       "      <td>86</td>\n",
       "      <td>PG</td>\n",
       "      <td>Deleted Scenes,Behind the Scenes</td>\n",
       "      <td>Documentary</td>\n",
       "      <td>2005-07-27 07:51:11</td>\n",
       "      <td>7.0</td>\n",
       "    </tr>\n",
       "    <tr>\n",
       "      <th>18</th>\n",
       "      <td>1</td>\n",
       "      <td>ACADEMY DINOSAUR</td>\n",
       "      <td>English</td>\n",
       "      <td>6</td>\n",
       "      <td>0.99</td>\n",
       "      <td>86</td>\n",
       "      <td>PG</td>\n",
       "      <td>Deleted Scenes,Behind the Scenes</td>\n",
       "      <td>Documentary</td>\n",
       "      <td>2005-08-21 00:30:32</td>\n",
       "      <td>8.0</td>\n",
       "    </tr>\n",
       "    <tr>\n",
       "      <th>19</th>\n",
       "      <td>1</td>\n",
       "      <td>ACADEMY DINOSAUR</td>\n",
       "      <td>English</td>\n",
       "      <td>6</td>\n",
       "      <td>0.99</td>\n",
       "      <td>86</td>\n",
       "      <td>PG</td>\n",
       "      <td>Deleted Scenes,Behind the Scenes</td>\n",
       "      <td>Documentary</td>\n",
       "      <td>2005-06-15 02:57:51</td>\n",
       "      <td>6.0</td>\n",
       "    </tr>\n",
       "    <tr>\n",
       "      <th>20</th>\n",
       "      <td>1</td>\n",
       "      <td>ACADEMY DINOSAUR</td>\n",
       "      <td>English</td>\n",
       "      <td>6</td>\n",
       "      <td>0.99</td>\n",
       "      <td>86</td>\n",
       "      <td>PG</td>\n",
       "      <td>Deleted Scenes,Behind the Scenes</td>\n",
       "      <td>Documentary</td>\n",
       "      <td>2005-07-10 13:07:31</td>\n",
       "      <td>7.0</td>\n",
       "    </tr>\n",
       "    <tr>\n",
       "      <th>21</th>\n",
       "      <td>1</td>\n",
       "      <td>ACADEMY DINOSAUR</td>\n",
       "      <td>English</td>\n",
       "      <td>6</td>\n",
       "      <td>0.99</td>\n",
       "      <td>86</td>\n",
       "      <td>PG</td>\n",
       "      <td>Deleted Scenes,Behind the Scenes</td>\n",
       "      <td>Documentary</td>\n",
       "      <td>2005-07-29 09:41:38</td>\n",
       "      <td>7.0</td>\n",
       "    </tr>\n",
       "    <tr>\n",
       "      <th>22</th>\n",
       "      <td>1</td>\n",
       "      <td>ACADEMY DINOSAUR</td>\n",
       "      <td>English</td>\n",
       "      <td>6</td>\n",
       "      <td>0.99</td>\n",
       "      <td>86</td>\n",
       "      <td>PG</td>\n",
       "      <td>Deleted Scenes,Behind the Scenes</td>\n",
       "      <td>Documentary</td>\n",
       "      <td>2005-08-22 00:44:08</td>\n",
       "      <td>8.0</td>\n",
       "    </tr>\n",
       "    <tr>\n",
       "      <th>23</th>\n",
       "      <td>1</td>\n",
       "      <td>ACADEMY DINOSAUR</td>\n",
       "      <td>English</td>\n",
       "      <td>6</td>\n",
       "      <td>0.99</td>\n",
       "      <td>86</td>\n",
       "      <td>PG</td>\n",
       "      <td>Deleted Scenes,Behind the Scenes</td>\n",
       "      <td>Documentary</td>\n",
       "      <td>2005-07-31 22:08:29</td>\n",
       "      <td>7.0</td>\n",
       "    </tr>\n",
       "    <tr>\n",
       "      <th>24</th>\n",
       "      <td>1</td>\n",
       "      <td>ACADEMY DINOSAUR</td>\n",
       "      <td>English</td>\n",
       "      <td>6</td>\n",
       "      <td>0.99</td>\n",
       "      <td>86</td>\n",
       "      <td>PG</td>\n",
       "      <td>Deleted Scenes,Behind the Scenes</td>\n",
       "      <td>Documentary</td>\n",
       "      <td>2005-08-18 18:36:16</td>\n",
       "      <td>8.0</td>\n",
       "    </tr>\n",
       "    <tr>\n",
       "      <th>25</th>\n",
       "      <td>2</td>\n",
       "      <td>ACE GOLDFINGER</td>\n",
       "      <td>English</td>\n",
       "      <td>3</td>\n",
       "      <td>4.99</td>\n",
       "      <td>48</td>\n",
       "      <td>G</td>\n",
       "      <td>Trailers,Deleted Scenes</td>\n",
       "      <td>Horror</td>\n",
       "      <td>2005-08-01 04:24:47</td>\n",
       "      <td>8.0</td>\n",
       "    </tr>\n",
       "    <tr>\n",
       "      <th>26</th>\n",
       "      <td>2</td>\n",
       "      <td>ACE GOLDFINGER</td>\n",
       "      <td>English</td>\n",
       "      <td>3</td>\n",
       "      <td>4.99</td>\n",
       "      <td>48</td>\n",
       "      <td>G</td>\n",
       "      <td>Trailers,Deleted Scenes</td>\n",
       "      <td>Horror</td>\n",
       "      <td>2006-02-14 15:16:03</td>\n",
       "      <td>2.0</td>\n",
       "    </tr>\n",
       "    <tr>\n",
       "      <th>27</th>\n",
       "      <td>2</td>\n",
       "      <td>ACE GOLDFINGER</td>\n",
       "      <td>English</td>\n",
       "      <td>3</td>\n",
       "      <td>4.99</td>\n",
       "      <td>48</td>\n",
       "      <td>G</td>\n",
       "      <td>Trailers,Deleted Scenes</td>\n",
       "      <td>Horror</td>\n",
       "      <td>2005-07-07 19:46:51</td>\n",
       "      <td>7.0</td>\n",
       "    </tr>\n",
       "    <tr>\n",
       "      <th>28</th>\n",
       "      <td>2</td>\n",
       "      <td>ACE GOLDFINGER</td>\n",
       "      <td>English</td>\n",
       "      <td>3</td>\n",
       "      <td>4.99</td>\n",
       "      <td>48</td>\n",
       "      <td>G</td>\n",
       "      <td>Trailers,Deleted Scenes</td>\n",
       "      <td>Horror</td>\n",
       "      <td>2005-07-28 05:04:47</td>\n",
       "      <td>7.0</td>\n",
       "    </tr>\n",
       "    <tr>\n",
       "      <th>29</th>\n",
       "      <td>2</td>\n",
       "      <td>ACE GOLDFINGER</td>\n",
       "      <td>English</td>\n",
       "      <td>3</td>\n",
       "      <td>4.99</td>\n",
       "      <td>48</td>\n",
       "      <td>G</td>\n",
       "      <td>Trailers,Deleted Scenes</td>\n",
       "      <td>Horror</td>\n",
       "      <td>2005-08-22 16:59:05</td>\n",
       "      <td>8.0</td>\n",
       "    </tr>\n",
       "    <tr>\n",
       "      <th>30</th>\n",
       "      <td>2</td>\n",
       "      <td>ACE GOLDFINGER</td>\n",
       "      <td>English</td>\n",
       "      <td>3</td>\n",
       "      <td>4.99</td>\n",
       "      <td>48</td>\n",
       "      <td>G</td>\n",
       "      <td>Trailers,Deleted Scenes</td>\n",
       "      <td>Horror</td>\n",
       "      <td>2005-08-02 04:41:17</td>\n",
       "      <td>8.0</td>\n",
       "    </tr>\n",
       "    <tr>\n",
       "      <th>31</th>\n",
       "      <td>2</td>\n",
       "      <td>ACE GOLDFINGER</td>\n",
       "      <td>English</td>\n",
       "      <td>3</td>\n",
       "      <td>4.99</td>\n",
       "      <td>48</td>\n",
       "      <td>G</td>\n",
       "      <td>Trailers,Deleted Scenes</td>\n",
       "      <td>Horror</td>\n",
       "      <td>2005-08-17 09:33:02</td>\n",
       "      <td>8.0</td>\n",
       "    </tr>\n",
       "    <tr>\n",
       "      <th>32</th>\n",
       "      <td>3</td>\n",
       "      <td>ADAPTATION HOLES</td>\n",
       "      <td>English</td>\n",
       "      <td>7</td>\n",
       "      <td>2.99</td>\n",
       "      <td>50</td>\n",
       "      <td>NC-17</td>\n",
       "      <td>Trailers,Deleted Scenes</td>\n",
       "      <td>Documentary</td>\n",
       "      <td>2005-07-27 01:21:19</td>\n",
       "      <td>7.0</td>\n",
       "    </tr>\n",
       "    <tr>\n",
       "      <th>33</th>\n",
       "      <td>3</td>\n",
       "      <td>ADAPTATION HOLES</td>\n",
       "      <td>English</td>\n",
       "      <td>7</td>\n",
       "      <td>2.99</td>\n",
       "      <td>50</td>\n",
       "      <td>NC-17</td>\n",
       "      <td>Trailers,Deleted Scenes</td>\n",
       "      <td>Documentary</td>\n",
       "      <td>2005-08-22 03:52:21</td>\n",
       "      <td>8.0</td>\n",
       "    </tr>\n",
       "    <tr>\n",
       "      <th>34</th>\n",
       "      <td>3</td>\n",
       "      <td>ADAPTATION HOLES</td>\n",
       "      <td>English</td>\n",
       "      <td>7</td>\n",
       "      <td>2.99</td>\n",
       "      <td>50</td>\n",
       "      <td>NC-17</td>\n",
       "      <td>Trailers,Deleted Scenes</td>\n",
       "      <td>Documentary</td>\n",
       "      <td>2005-08-02 15:45:10</td>\n",
       "      <td>8.0</td>\n",
       "    </tr>\n",
       "    <tr>\n",
       "      <th>35</th>\n",
       "      <td>3</td>\n",
       "      <td>ADAPTATION HOLES</td>\n",
       "      <td>English</td>\n",
       "      <td>7</td>\n",
       "      <td>2.99</td>\n",
       "      <td>50</td>\n",
       "      <td>NC-17</td>\n",
       "      <td>Trailers,Deleted Scenes</td>\n",
       "      <td>Documentary</td>\n",
       "      <td>2005-08-23 13:54:39</td>\n",
       "      <td>8.0</td>\n",
       "    </tr>\n",
       "    <tr>\n",
       "      <th>36</th>\n",
       "      <td>3</td>\n",
       "      <td>ADAPTATION HOLES</td>\n",
       "      <td>English</td>\n",
       "      <td>7</td>\n",
       "      <td>2.99</td>\n",
       "      <td>50</td>\n",
       "      <td>NC-17</td>\n",
       "      <td>Trailers,Deleted Scenes</td>\n",
       "      <td>Documentary</td>\n",
       "      <td>2005-05-31 04:50:07</td>\n",
       "      <td>5.0</td>\n",
       "    </tr>\n",
       "    <tr>\n",
       "      <th>37</th>\n",
       "      <td>3</td>\n",
       "      <td>ADAPTATION HOLES</td>\n",
       "      <td>English</td>\n",
       "      <td>7</td>\n",
       "      <td>2.99</td>\n",
       "      <td>50</td>\n",
       "      <td>NC-17</td>\n",
       "      <td>Trailers,Deleted Scenes</td>\n",
       "      <td>Documentary</td>\n",
       "      <td>2005-06-15 18:17:28</td>\n",
       "      <td>6.0</td>\n",
       "    </tr>\n",
       "    <tr>\n",
       "      <th>38</th>\n",
       "      <td>3</td>\n",
       "      <td>ADAPTATION HOLES</td>\n",
       "      <td>English</td>\n",
       "      <td>7</td>\n",
       "      <td>2.99</td>\n",
       "      <td>50</td>\n",
       "      <td>NC-17</td>\n",
       "      <td>Trailers,Deleted Scenes</td>\n",
       "      <td>Documentary</td>\n",
       "      <td>2005-07-06 19:11:43</td>\n",
       "      <td>7.0</td>\n",
       "    </tr>\n",
       "    <tr>\n",
       "      <th>39</th>\n",
       "      <td>3</td>\n",
       "      <td>ADAPTATION HOLES</td>\n",
       "      <td>English</td>\n",
       "      <td>7</td>\n",
       "      <td>2.99</td>\n",
       "      <td>50</td>\n",
       "      <td>NC-17</td>\n",
       "      <td>Trailers,Deleted Scenes</td>\n",
       "      <td>Documentary</td>\n",
       "      <td>2005-08-01 08:51:04</td>\n",
       "      <td>8.0</td>\n",
       "    </tr>\n",
       "    <tr>\n",
       "      <th>40</th>\n",
       "      <td>3</td>\n",
       "      <td>ADAPTATION HOLES</td>\n",
       "      <td>English</td>\n",
       "      <td>7</td>\n",
       "      <td>2.99</td>\n",
       "      <td>50</td>\n",
       "      <td>NC-17</td>\n",
       "      <td>Trailers,Deleted Scenes</td>\n",
       "      <td>Documentary</td>\n",
       "      <td>2005-08-17 13:16:38</td>\n",
       "      <td>8.0</td>\n",
       "    </tr>\n",
       "    <tr>\n",
       "      <th>41</th>\n",
       "      <td>3</td>\n",
       "      <td>ADAPTATION HOLES</td>\n",
       "      <td>English</td>\n",
       "      <td>7</td>\n",
       "      <td>2.99</td>\n",
       "      <td>50</td>\n",
       "      <td>NC-17</td>\n",
       "      <td>Trailers,Deleted Scenes</td>\n",
       "      <td>Documentary</td>\n",
       "      <td>2005-07-06 22:01:51</td>\n",
       "      <td>7.0</td>\n",
       "    </tr>\n",
       "    <tr>\n",
       "      <th>42</th>\n",
       "      <td>3</td>\n",
       "      <td>ADAPTATION HOLES</td>\n",
       "      <td>English</td>\n",
       "      <td>7</td>\n",
       "      <td>2.99</td>\n",
       "      <td>50</td>\n",
       "      <td>NC-17</td>\n",
       "      <td>Trailers,Deleted Scenes</td>\n",
       "      <td>Documentary</td>\n",
       "      <td>2005-07-27 23:19:29</td>\n",
       "      <td>7.0</td>\n",
       "    </tr>\n",
       "    <tr>\n",
       "      <th>43</th>\n",
       "      <td>3</td>\n",
       "      <td>ADAPTATION HOLES</td>\n",
       "      <td>English</td>\n",
       "      <td>7</td>\n",
       "      <td>2.99</td>\n",
       "      <td>50</td>\n",
       "      <td>NC-17</td>\n",
       "      <td>Trailers,Deleted Scenes</td>\n",
       "      <td>Documentary</td>\n",
       "      <td>2005-08-18 21:45:15</td>\n",
       "      <td>8.0</td>\n",
       "    </tr>\n",
       "    <tr>\n",
       "      <th>44</th>\n",
       "      <td>4</td>\n",
       "      <td>AFFAIR PREJUDICE</td>\n",
       "      <td>English</td>\n",
       "      <td>5</td>\n",
       "      <td>2.99</td>\n",
       "      <td>117</td>\n",
       "      <td>G</td>\n",
       "      <td>Commentaries,Behind the Scenes</td>\n",
       "      <td>Horror</td>\n",
       "      <td>2005-07-12 02:40:41</td>\n",
       "      <td>7.0</td>\n",
       "    </tr>\n",
       "    <tr>\n",
       "      <th>45</th>\n",
       "      <td>4</td>\n",
       "      <td>AFFAIR PREJUDICE</td>\n",
       "      <td>English</td>\n",
       "      <td>5</td>\n",
       "      <td>2.99</td>\n",
       "      <td>117</td>\n",
       "      <td>G</td>\n",
       "      <td>Commentaries,Behind the Scenes</td>\n",
       "      <td>Horror</td>\n",
       "      <td>2005-07-30 02:30:07</td>\n",
       "      <td>7.0</td>\n",
       "    </tr>\n",
       "    <tr>\n",
       "      <th>46</th>\n",
       "      <td>4</td>\n",
       "      <td>AFFAIR PREJUDICE</td>\n",
       "      <td>English</td>\n",
       "      <td>5</td>\n",
       "      <td>2.99</td>\n",
       "      <td>117</td>\n",
       "      <td>G</td>\n",
       "      <td>Commentaries,Behind the Scenes</td>\n",
       "      <td>Horror</td>\n",
       "      <td>2005-08-22 21:16:54</td>\n",
       "      <td>8.0</td>\n",
       "    </tr>\n",
       "    <tr>\n",
       "      <th>47</th>\n",
       "      <td>4</td>\n",
       "      <td>AFFAIR PREJUDICE</td>\n",
       "      <td>English</td>\n",
       "      <td>5</td>\n",
       "      <td>2.99</td>\n",
       "      <td>117</td>\n",
       "      <td>G</td>\n",
       "      <td>Commentaries,Behind the Scenes</td>\n",
       "      <td>Horror</td>\n",
       "      <td>2005-05-31 00:06:02</td>\n",
       "      <td>5.0</td>\n",
       "    </tr>\n",
       "    <tr>\n",
       "      <th>48</th>\n",
       "      <td>4</td>\n",
       "      <td>AFFAIR PREJUDICE</td>\n",
       "      <td>English</td>\n",
       "      <td>5</td>\n",
       "      <td>2.99</td>\n",
       "      <td>117</td>\n",
       "      <td>G</td>\n",
       "      <td>Commentaries,Behind the Scenes</td>\n",
       "      <td>Horror</td>\n",
       "      <td>2005-06-17 18:06:14</td>\n",
       "      <td>6.0</td>\n",
       "    </tr>\n",
       "    <tr>\n",
       "      <th>49</th>\n",
       "      <td>4</td>\n",
       "      <td>AFFAIR PREJUDICE</td>\n",
       "      <td>English</td>\n",
       "      <td>5</td>\n",
       "      <td>2.99</td>\n",
       "      <td>117</td>\n",
       "      <td>G</td>\n",
       "      <td>Commentaries,Behind the Scenes</td>\n",
       "      <td>Horror</td>\n",
       "      <td>2005-07-10 08:51:39</td>\n",
       "      <td>7.0</td>\n",
       "    </tr>\n",
       "  </tbody>\n",
       "</table>\n",
       "</div>"
      ],
      "text/plain": [
       "    film_id             title language  rental_duration  rental_rate  length  \\\n",
       "0         1  ACADEMY DINOSAUR  English                6         0.99      86   \n",
       "1         1  ACADEMY DINOSAUR  English                6         0.99      86   \n",
       "2         1  ACADEMY DINOSAUR  English                6         0.99      86   \n",
       "3         1  ACADEMY DINOSAUR  English                6         0.99      86   \n",
       "4         1  ACADEMY DINOSAUR  English                6         0.99      86   \n",
       "5         1  ACADEMY DINOSAUR  English                6         0.99      86   \n",
       "6         1  ACADEMY DINOSAUR  English                6         0.99      86   \n",
       "7         1  ACADEMY DINOSAUR  English                6         0.99      86   \n",
       "8         1  ACADEMY DINOSAUR  English                6         0.99      86   \n",
       "9         1  ACADEMY DINOSAUR  English                6         0.99      86   \n",
       "10        1  ACADEMY DINOSAUR  English                6         0.99      86   \n",
       "11        1  ACADEMY DINOSAUR  English                6         0.99      86   \n",
       "12        1  ACADEMY DINOSAUR  English                6         0.99      86   \n",
       "13        1  ACADEMY DINOSAUR  English                6         0.99      86   \n",
       "14        1  ACADEMY DINOSAUR  English                6         0.99      86   \n",
       "15        1  ACADEMY DINOSAUR  English                6         0.99      86   \n",
       "16        1  ACADEMY DINOSAUR  English                6         0.99      86   \n",
       "17        1  ACADEMY DINOSAUR  English                6         0.99      86   \n",
       "18        1  ACADEMY DINOSAUR  English                6         0.99      86   \n",
       "19        1  ACADEMY DINOSAUR  English                6         0.99      86   \n",
       "20        1  ACADEMY DINOSAUR  English                6         0.99      86   \n",
       "21        1  ACADEMY DINOSAUR  English                6         0.99      86   \n",
       "22        1  ACADEMY DINOSAUR  English                6         0.99      86   \n",
       "23        1  ACADEMY DINOSAUR  English                6         0.99      86   \n",
       "24        1  ACADEMY DINOSAUR  English                6         0.99      86   \n",
       "25        2    ACE GOLDFINGER  English                3         4.99      48   \n",
       "26        2    ACE GOLDFINGER  English                3         4.99      48   \n",
       "27        2    ACE GOLDFINGER  English                3         4.99      48   \n",
       "28        2    ACE GOLDFINGER  English                3         4.99      48   \n",
       "29        2    ACE GOLDFINGER  English                3         4.99      48   \n",
       "30        2    ACE GOLDFINGER  English                3         4.99      48   \n",
       "31        2    ACE GOLDFINGER  English                3         4.99      48   \n",
       "32        3  ADAPTATION HOLES  English                7         2.99      50   \n",
       "33        3  ADAPTATION HOLES  English                7         2.99      50   \n",
       "34        3  ADAPTATION HOLES  English                7         2.99      50   \n",
       "35        3  ADAPTATION HOLES  English                7         2.99      50   \n",
       "36        3  ADAPTATION HOLES  English                7         2.99      50   \n",
       "37        3  ADAPTATION HOLES  English                7         2.99      50   \n",
       "38        3  ADAPTATION HOLES  English                7         2.99      50   \n",
       "39        3  ADAPTATION HOLES  English                7         2.99      50   \n",
       "40        3  ADAPTATION HOLES  English                7         2.99      50   \n",
       "41        3  ADAPTATION HOLES  English                7         2.99      50   \n",
       "42        3  ADAPTATION HOLES  English                7         2.99      50   \n",
       "43        3  ADAPTATION HOLES  English                7         2.99      50   \n",
       "44        4  AFFAIR PREJUDICE  English                5         2.99     117   \n",
       "45        4  AFFAIR PREJUDICE  English                5         2.99     117   \n",
       "46        4  AFFAIR PREJUDICE  English                5         2.99     117   \n",
       "47        4  AFFAIR PREJUDICE  English                5         2.99     117   \n",
       "48        4  AFFAIR PREJUDICE  English                5         2.99     117   \n",
       "49        4  AFFAIR PREJUDICE  English                5         2.99     117   \n",
       "\n",
       "   rating                  special_features     category         rental_date  \\\n",
       "0      PG  Deleted Scenes,Behind the Scenes  Documentary 2005-07-08 19:03:15   \n",
       "1      PG  Deleted Scenes,Behind the Scenes  Documentary 2005-08-02 20:13:10   \n",
       "2      PG  Deleted Scenes,Behind the Scenes  Documentary 2005-08-21 21:27:43   \n",
       "3      PG  Deleted Scenes,Behind the Scenes  Documentary 2022-09-19 17:27:31   \n",
       "4      PG  Deleted Scenes,Behind the Scenes  Documentary 2005-05-30 20:21:07   \n",
       "5      PG  Deleted Scenes,Behind the Scenes  Documentary 2005-06-17 20:24:00   \n",
       "6      PG  Deleted Scenes,Behind the Scenes  Documentary 2005-07-07 10:41:31   \n",
       "7      PG  Deleted Scenes,Behind the Scenes  Documentary 2005-07-30 22:02:34   \n",
       "8      PG  Deleted Scenes,Behind the Scenes  Documentary 2005-08-23 01:01:01   \n",
       "9      PG  Deleted Scenes,Behind the Scenes  Documentary 2005-07-31 21:36:07   \n",
       "10     PG  Deleted Scenes,Behind the Scenes  Documentary 2005-08-22 23:56:37   \n",
       "11     PG  Deleted Scenes,Behind the Scenes  Documentary 2005-08-02 00:47:19   \n",
       "12     PG  Deleted Scenes,Behind the Scenes  Documentary 2005-08-21 18:32:42   \n",
       "13     PG  Deleted Scenes,Behind the Scenes  Documentary                 NaT   \n",
       "14     PG  Deleted Scenes,Behind the Scenes  Documentary 2005-05-27 07:03:28   \n",
       "15     PG  Deleted Scenes,Behind the Scenes  Documentary 2005-06-21 00:30:26   \n",
       "16     PG  Deleted Scenes,Behind the Scenes  Documentary 2005-07-07 20:59:06   \n",
       "17     PG  Deleted Scenes,Behind the Scenes  Documentary 2005-07-27 07:51:11   \n",
       "18     PG  Deleted Scenes,Behind the Scenes  Documentary 2005-08-21 00:30:32   \n",
       "19     PG  Deleted Scenes,Behind the Scenes  Documentary 2005-06-15 02:57:51   \n",
       "20     PG  Deleted Scenes,Behind the Scenes  Documentary 2005-07-10 13:07:31   \n",
       "21     PG  Deleted Scenes,Behind the Scenes  Documentary 2005-07-29 09:41:38   \n",
       "22     PG  Deleted Scenes,Behind the Scenes  Documentary 2005-08-22 00:44:08   \n",
       "23     PG  Deleted Scenes,Behind the Scenes  Documentary 2005-07-31 22:08:29   \n",
       "24     PG  Deleted Scenes,Behind the Scenes  Documentary 2005-08-18 18:36:16   \n",
       "25      G           Trailers,Deleted Scenes       Horror 2005-08-01 04:24:47   \n",
       "26      G           Trailers,Deleted Scenes       Horror 2006-02-14 15:16:03   \n",
       "27      G           Trailers,Deleted Scenes       Horror 2005-07-07 19:46:51   \n",
       "28      G           Trailers,Deleted Scenes       Horror 2005-07-28 05:04:47   \n",
       "29      G           Trailers,Deleted Scenes       Horror 2005-08-22 16:59:05   \n",
       "30      G           Trailers,Deleted Scenes       Horror 2005-08-02 04:41:17   \n",
       "31      G           Trailers,Deleted Scenes       Horror 2005-08-17 09:33:02   \n",
       "32  NC-17           Trailers,Deleted Scenes  Documentary 2005-07-27 01:21:19   \n",
       "33  NC-17           Trailers,Deleted Scenes  Documentary 2005-08-22 03:52:21   \n",
       "34  NC-17           Trailers,Deleted Scenes  Documentary 2005-08-02 15:45:10   \n",
       "35  NC-17           Trailers,Deleted Scenes  Documentary 2005-08-23 13:54:39   \n",
       "36  NC-17           Trailers,Deleted Scenes  Documentary 2005-05-31 04:50:07   \n",
       "37  NC-17           Trailers,Deleted Scenes  Documentary 2005-06-15 18:17:28   \n",
       "38  NC-17           Trailers,Deleted Scenes  Documentary 2005-07-06 19:11:43   \n",
       "39  NC-17           Trailers,Deleted Scenes  Documentary 2005-08-01 08:51:04   \n",
       "40  NC-17           Trailers,Deleted Scenes  Documentary 2005-08-17 13:16:38   \n",
       "41  NC-17           Trailers,Deleted Scenes  Documentary 2005-07-06 22:01:51   \n",
       "42  NC-17           Trailers,Deleted Scenes  Documentary 2005-07-27 23:19:29   \n",
       "43  NC-17           Trailers,Deleted Scenes  Documentary 2005-08-18 21:45:15   \n",
       "44      G    Commentaries,Behind the Scenes       Horror 2005-07-12 02:40:41   \n",
       "45      G    Commentaries,Behind the Scenes       Horror 2005-07-30 02:30:07   \n",
       "46      G    Commentaries,Behind the Scenes       Horror 2005-08-22 21:16:54   \n",
       "47      G    Commentaries,Behind the Scenes       Horror 2005-05-31 00:06:02   \n",
       "48      G    Commentaries,Behind the Scenes       Horror 2005-06-17 18:06:14   \n",
       "49      G    Commentaries,Behind the Scenes       Horror 2005-07-10 08:51:39   \n",
       "\n",
       "    month  \n",
       "0     7.0  \n",
       "1     8.0  \n",
       "2     8.0  \n",
       "3     9.0  \n",
       "4     5.0  \n",
       "5     6.0  \n",
       "6     7.0  \n",
       "7     7.0  \n",
       "8     8.0  \n",
       "9     7.0  \n",
       "10    8.0  \n",
       "11    8.0  \n",
       "12    8.0  \n",
       "13    NaN  \n",
       "14    5.0  \n",
       "15    6.0  \n",
       "16    7.0  \n",
       "17    7.0  \n",
       "18    8.0  \n",
       "19    6.0  \n",
       "20    7.0  \n",
       "21    7.0  \n",
       "22    8.0  \n",
       "23    7.0  \n",
       "24    8.0  \n",
       "25    8.0  \n",
       "26    2.0  \n",
       "27    7.0  \n",
       "28    7.0  \n",
       "29    8.0  \n",
       "30    8.0  \n",
       "31    8.0  \n",
       "32    7.0  \n",
       "33    8.0  \n",
       "34    8.0  \n",
       "35    8.0  \n",
       "36    5.0  \n",
       "37    6.0  \n",
       "38    7.0  \n",
       "39    8.0  \n",
       "40    8.0  \n",
       "41    7.0  \n",
       "42    7.0  \n",
       "43    8.0  \n",
       "44    7.0  \n",
       "45    7.0  \n",
       "46    8.0  \n",
       "47    5.0  \n",
       "48    6.0  \n",
       "49    7.0  "
      ]
     },
     "execution_count": 899,
     "metadata": {},
     "output_type": "execute_result"
    }
   ],
   "source": [
    "\n",
    "query = ''' SELECT \n",
    "    f.film_id,\n",
    "    f.title,\n",
    "    l.name AS 'language',\n",
    "    f.rental_duration,\n",
    "    f.rental_rate,\n",
    "    f.length,\n",
    "    f.rating,\n",
    "    f.special_features,\n",
    "    c.name AS 'category',\n",
    "    r.rental_date,\n",
    "    MONTH(r.rental_date) AS 'month'\n",
    "FROM\n",
    "    film f\n",
    "        LEFT JOIN\n",
    "    inventory i ON f.film_id = i.film_id\n",
    "        LEFT JOIN\n",
    "    language l ON f.language_id = l.language_id\n",
    "        LEFT JOIN\n",
    "    film_category f_c ON f_c.film_id = f.film_id\n",
    "        LEFT JOIN\n",
    "    category c ON f_c.category_id = c.category_id\n",
    "        LEFT JOIN\n",
    "    rental r ON r.inventory_id = i.inventory_id; '''\n",
    "\n",
    "\n",
    "df = pd.read_sql_query(query, engine)\n",
    "print(df.shape)\n",
    "df.head(50)"
   ]
  },
  {
   "cell_type": "markdown",
   "id": "5d4f1965",
   "metadata": {},
   "source": [
    "### Step 3: Explore the Dataset"
   ]
  },
  {
   "cell_type": "markdown",
   "id": "17a08c5b",
   "metadata": {},
   "source": [
    "1. Show main information about the data set: data type of each column, number of columns, memory usage, and the number of records in the dataset"
   ]
  },
  {
   "cell_type": "code",
   "execution_count": 900,
   "id": "3a9ce614",
   "metadata": {},
   "outputs": [
    {
     "name": "stdout",
     "output_type": "stream",
     "text": [
      "<class 'pandas.core.frame.DataFrame'>\n",
      "RangeIndex: 16088 entries, 0 to 16087\n",
      "Data columns (total 11 columns):\n",
      " #   Column            Non-Null Count  Dtype         \n",
      "---  ------            --------------  -----         \n",
      " 0   film_id           16088 non-null  int64         \n",
      " 1   title             16088 non-null  object        \n",
      " 2   language          16088 non-null  object        \n",
      " 3   rental_duration   16088 non-null  int64         \n",
      " 4   rental_rate       16088 non-null  float64       \n",
      " 5   length            16088 non-null  int64         \n",
      " 6   rating            16088 non-null  object        \n",
      " 7   special_features  16088 non-null  object        \n",
      " 8   category          16088 non-null  object        \n",
      " 9   rental_date       16045 non-null  datetime64[ns]\n",
      " 10  month             16045 non-null  float64       \n",
      "dtypes: datetime64[ns](1), float64(2), int64(3), object(5)\n",
      "memory usage: 1.4+ MB\n"
     ]
    }
   ],
   "source": [
    "df.info()"
   ]
  },
  {
   "cell_type": "markdown",
   "id": "7904d33a",
   "metadata": {},
   "source": [
    "2. Show statistical properties"
   ]
  },
  {
   "cell_type": "code",
   "execution_count": 901,
   "id": "0e6143fd",
   "metadata": {},
   "outputs": [
    {
     "data": {
      "text/html": [
       "<div>\n",
       "<style scoped>\n",
       "    .dataframe tbody tr th:only-of-type {\n",
       "        vertical-align: middle;\n",
       "    }\n",
       "\n",
       "    .dataframe tbody tr th {\n",
       "        vertical-align: top;\n",
       "    }\n",
       "\n",
       "    .dataframe thead th {\n",
       "        text-align: right;\n",
       "    }\n",
       "</style>\n",
       "<table border=\"1\" class=\"dataframe\">\n",
       "  <thead>\n",
       "    <tr style=\"text-align: right;\">\n",
       "      <th></th>\n",
       "      <th>count</th>\n",
       "      <th>mean</th>\n",
       "      <th>std</th>\n",
       "      <th>min</th>\n",
       "      <th>25%</th>\n",
       "      <th>50%</th>\n",
       "      <th>75%</th>\n",
       "      <th>max</th>\n",
       "    </tr>\n",
       "  </thead>\n",
       "  <tbody>\n",
       "    <tr>\n",
       "      <th>film_id</th>\n",
       "      <td>16088.0</td>\n",
       "      <td>500.920189</td>\n",
       "      <td>288.625929</td>\n",
       "      <td>1.00</td>\n",
       "      <td>254.00</td>\n",
       "      <td>496.00</td>\n",
       "      <td>753.00</td>\n",
       "      <td>1000.00</td>\n",
       "    </tr>\n",
       "    <tr>\n",
       "      <th>rental_duration</th>\n",
       "      <td>16088.0</td>\n",
       "      <td>4.936661</td>\n",
       "      <td>1.401951</td>\n",
       "      <td>3.00</td>\n",
       "      <td>4.00</td>\n",
       "      <td>5.00</td>\n",
       "      <td>6.00</td>\n",
       "      <td>7.00</td>\n",
       "    </tr>\n",
       "    <tr>\n",
       "      <th>rental_rate</th>\n",
       "      <td>16088.0</td>\n",
       "      <td>2.942636</td>\n",
       "      <td>1.649907</td>\n",
       "      <td>0.99</td>\n",
       "      <td>0.99</td>\n",
       "      <td>2.99</td>\n",
       "      <td>4.99</td>\n",
       "      <td>4.99</td>\n",
       "    </tr>\n",
       "    <tr>\n",
       "      <th>length</th>\n",
       "      <td>16088.0</td>\n",
       "      <td>114.955246</td>\n",
       "      <td>40.099140</td>\n",
       "      <td>46.00</td>\n",
       "      <td>81.00</td>\n",
       "      <td>113.00</td>\n",
       "      <td>148.00</td>\n",
       "      <td>185.00</td>\n",
       "    </tr>\n",
       "    <tr>\n",
       "      <th>month</th>\n",
       "      <td>16045.0</td>\n",
       "      <td>7.009660</td>\n",
       "      <td>1.034602</td>\n",
       "      <td>2.00</td>\n",
       "      <td>7.00</td>\n",
       "      <td>7.00</td>\n",
       "      <td>8.00</td>\n",
       "      <td>9.00</td>\n",
       "    </tr>\n",
       "  </tbody>\n",
       "</table>\n",
       "</div>"
      ],
      "text/plain": [
       "                   count        mean         std    min     25%     50%  \\\n",
       "film_id          16088.0  500.920189  288.625929   1.00  254.00  496.00   \n",
       "rental_duration  16088.0    4.936661    1.401951   3.00    4.00    5.00   \n",
       "rental_rate      16088.0    2.942636    1.649907   0.99    0.99    2.99   \n",
       "length           16088.0  114.955246   40.099140  46.00   81.00  113.00   \n",
       "month            16045.0    7.009660    1.034602   2.00    7.00    7.00   \n",
       "\n",
       "                    75%      max  \n",
       "film_id          753.00  1000.00  \n",
       "rental_duration    6.00     7.00  \n",
       "rental_rate        4.99     4.99  \n",
       "length           148.00   185.00  \n",
       "month              8.00     9.00  "
      ]
     },
     "execution_count": 901,
     "metadata": {},
     "output_type": "execute_result"
    }
   ],
   "source": [
    "df.describe().T"
   ]
  },
  {
   "cell_type": "code",
   "execution_count": 902,
   "id": "2626b602",
   "metadata": {},
   "outputs": [],
   "source": [
    "#Column 'month' has null values as the total count is less than the count of the other columns!"
   ]
  },
  {
   "cell_type": "markdown",
   "id": "8089d7dc",
   "metadata": {},
   "source": [
    "3. Data Cleaning "
   ]
  },
  {
   "cell_type": "code",
   "execution_count": 903,
   "id": "4dd7cd08",
   "metadata": {},
   "outputs": [],
   "source": [
    "def cleanup(x):\n",
    "    \n",
    "    x = df.copy()\n",
    "    \n",
    "    # Add target\n",
    "    list1 = []\n",
    "    for i in x['month']:\n",
    "        if i == 5:\n",
    "            list1.append(1)\n",
    "        else:\n",
    "            list1.append(0)\n",
    "    \n",
    "    x['rented_month'] = list1\n",
    "    \n",
    "    # Remove duplicates\n",
    "    x = x.pivot_table(index= ['title','language','rental_duration','rental_rate','length','rating','special_features','category'], values = ['rented_month','film_id'], aggfunc = {'rented_month':max,'film_id':'count'}).reset_index()\n",
    "    x.rename(columns={\"film_id\": \"count_rentals\"}, inplace=True)\n",
    "    \n",
    "    # split special_features columns in 4 different ones\n",
    "    x = x.drop(['title','language'],axis = 1)\n",
    "    x[['special_features1', 'special_features2','special_features3','special_features4']] = x['special_features'].str.split(',', expand=True)\n",
    "    \n",
    "    # Remove NaN in month column\n",
    "    x[['special_features2', 'special_features3','special_features4']] = x[['special_features2', 'special_features3','special_features4']].fillna('none')\n",
    "    x = x.drop('special_features',axis =1)\n",
    "    \n",
    "    \n",
    "    return x"
   ]
  },
  {
   "cell_type": "code",
   "execution_count": 904,
   "id": "f1e6a997",
   "metadata": {},
   "outputs": [
    {
     "data": {
      "text/plain": [
       "(1000, 11)"
      ]
     },
     "execution_count": 904,
     "metadata": {},
     "output_type": "execute_result"
    }
   ],
   "source": [
    "df2 = cleanup(df2)\n",
    "df2.shape"
   ]
  },
  {
   "cell_type": "code",
   "execution_count": 905,
   "id": "e5f01859",
   "metadata": {},
   "outputs": [
    {
     "data": {
      "text/plain": [
       "1    686\n",
       "0    314\n",
       "Name: rented_month, dtype: int64"
      ]
     },
     "execution_count": 905,
     "metadata": {},
     "output_type": "execute_result"
    }
   ],
   "source": [
    "df2['rented_month'].value_counts()"
   ]
  },
  {
   "cell_type": "code",
   "execution_count": 906,
   "id": "ba3fc402",
   "metadata": {},
   "outputs": [
    {
     "data": {
      "text/plain": [
       "rental_duration        int64\n",
       "rental_rate          float64\n",
       "length                 int64\n",
       "rating                object\n",
       "category              object\n",
       "count_rentals          int64\n",
       "rented_month           int64\n",
       "special_features1     object\n",
       "special_features2     object\n",
       "special_features3     object\n",
       "special_features4     object\n",
       "dtype: object"
      ]
     },
     "execution_count": 906,
     "metadata": {},
     "output_type": "execute_result"
    }
   ],
   "source": [
    "# Analise data after \n",
    "df2.dtypes"
   ]
  },
  {
   "cell_type": "code",
   "execution_count": 907,
   "id": "a762c361",
   "metadata": {},
   "outputs": [
    {
     "data": {
      "text/plain": [
       "rental_duration      0\n",
       "rental_rate          0\n",
       "length               0\n",
       "rating               0\n",
       "category             0\n",
       "count_rentals        0\n",
       "rented_month         0\n",
       "special_features1    0\n",
       "special_features2    0\n",
       "special_features3    0\n",
       "special_features4    0\n",
       "dtype: int64"
      ]
     },
     "execution_count": 907,
     "metadata": {},
     "output_type": "execute_result"
    }
   ],
   "source": [
    "df2.isna().sum()"
   ]
  },
  {
   "cell_type": "markdown",
   "id": "72a04589",
   "metadata": {},
   "source": [
    "### Step 4.  Detect multicollinearity  to determine the model's features"
   ]
  },
  {
   "cell_type": "markdown",
   "id": "30ebc119",
   "metadata": {},
   "source": [
    "1. Display the correlation between different variables"
   ]
  },
  {
   "cell_type": "code",
   "execution_count": 908,
   "id": "726a0a5e",
   "metadata": {},
   "outputs": [
    {
     "data": {
      "text/html": [
       "<div>\n",
       "<style scoped>\n",
       "    .dataframe tbody tr th:only-of-type {\n",
       "        vertical-align: middle;\n",
       "    }\n",
       "\n",
       "    .dataframe tbody tr th {\n",
       "        vertical-align: top;\n",
       "    }\n",
       "\n",
       "    .dataframe thead th {\n",
       "        text-align: right;\n",
       "    }\n",
       "</style>\n",
       "<table border=\"1\" class=\"dataframe\">\n",
       "  <thead>\n",
       "    <tr style=\"text-align: right;\">\n",
       "      <th></th>\n",
       "      <th>rental_duration</th>\n",
       "      <th>rental_rate</th>\n",
       "      <th>length</th>\n",
       "      <th>count_rentals</th>\n",
       "    </tr>\n",
       "  </thead>\n",
       "  <tbody>\n",
       "    <tr>\n",
       "      <th>rental_duration</th>\n",
       "      <td>1.000000</td>\n",
       "      <td>0.025777</td>\n",
       "      <td>0.061586</td>\n",
       "      <td>-0.075951</td>\n",
       "    </tr>\n",
       "    <tr>\n",
       "      <th>rental_rate</th>\n",
       "      <td>0.025777</td>\n",
       "      <td>1.000000</td>\n",
       "      <td>0.029789</td>\n",
       "      <td>-0.050337</td>\n",
       "    </tr>\n",
       "    <tr>\n",
       "      <th>length</th>\n",
       "      <td>0.061586</td>\n",
       "      <td>0.029789</td>\n",
       "      <td>1.000000</td>\n",
       "      <td>-0.017379</td>\n",
       "    </tr>\n",
       "    <tr>\n",
       "      <th>count_rentals</th>\n",
       "      <td>-0.075951</td>\n",
       "      <td>-0.050337</td>\n",
       "      <td>-0.017379</td>\n",
       "      <td>1.000000</td>\n",
       "    </tr>\n",
       "  </tbody>\n",
       "</table>\n",
       "</div>"
      ],
      "text/plain": [
       "                 rental_duration  rental_rate    length  count_rentals\n",
       "rental_duration         1.000000     0.025777  0.061586      -0.075951\n",
       "rental_rate             0.025777     1.000000  0.029789      -0.050337\n",
       "length                  0.061586     0.029789  1.000000      -0.017379\n",
       "count_rentals          -0.075951    -0.050337 -0.017379       1.000000"
      ]
     },
     "execution_count": 908,
     "metadata": {},
     "output_type": "execute_result"
    }
   ],
   "source": [
    "# Correlation function\n",
    "\n",
    "df_corr = df2.drop('rented_month', axis=1)\n",
    "df_corr.corr()"
   ]
  },
  {
   "cell_type": "code",
   "execution_count": 909,
   "id": "7024e2ce",
   "metadata": {},
   "outputs": [
    {
     "data": {
      "image/png": "[encoded data removed]",
      "text/plain": [
       "<Figure size 648x432 with 2 Axes>"
      ]
     },
     "metadata": {
      "needs_background": "light"
     },
     "output_type": "display_data"
    }
   ],
   "source": [
    "# Heatmap\n",
    "\n",
    "corr_matrix = df_corr.corr(method='pearson')\n",
    "fig, ax = plt.subplots(figsize=(9, 6))\n",
    "ax = sns.heatmap(corr_matrix, annot=True)\n",
    "plt.show()"
   ]
  },
  {
   "cell_type": "markdown",
   "id": "22fd60ca",
   "metadata": {},
   "source": [
    "- As shown above, correlation between selected variables is not very strong. Correlation scores are not very close to 1 or -1.\n",
    "\n",
    "- Some variables are negatively correlated, i.e. one decreases with increasing the other and vice versa. In this case the number of times a film was rented is negatively correlated with:\n",
    "     - rental rate\n",
    "     - rental duration\n",
    "     - length"
   ]
  },
  {
   "cell_type": "code",
   "execution_count": 910,
   "id": "82536549",
   "metadata": {},
   "outputs": [
    {
     "data": {
      "image/png": "[encoded data removed]",
      "text/plain": [
       "<Figure size 360x360 with 1 Axes>"
      ]
     },
     "metadata": {
      "needs_background": "light"
     },
     "output_type": "display_data"
    },
    {
     "data": {
      "image/png": "[encoded data removed]",
      "text/plain": [
       "<Figure size 360x360 with 1 Axes>"
      ]
     },
     "metadata": {
      "needs_background": "light"
     },
     "output_type": "display_data"
    },
    {
     "data": {
      "image/png": "[encoded data removed]",
      "text/plain": [
       "<Figure size 360x360 with 1 Axes>"
      ]
     },
     "metadata": {
      "needs_background": "light"
     },
     "output_type": "display_data"
    },
    {
     "data": {
      "image/png": "[encoded data removed]",
      "text/plain": [
       "<Figure size 360x360 with 1 Axes>"
      ]
     },
     "metadata": {
      "needs_background": "light"
     },
     "output_type": "display_data"
    }
   ],
   "source": [
    "# look at the scale and distribution of values\n",
    "sns.displot(df2['rental_duration'],kde = True)\n",
    "plt.show()\n",
    "\n",
    "sns.displot(df2['rental_rate'],kde = True)\n",
    "plt.show()\n",
    "\n",
    "sns.displot(df2['length'],kde = True)\n",
    "plt.show()\n",
    "\n",
    "sns.displot(df2['count_rentals'],kde = True)\n",
    "plt.show()"
   ]
  },
  {
   "cell_type": "markdown",
   "id": "f605c2f3",
   "metadata": {},
   "source": [
    "### Step 5.  Build the Model"
   ]
  },
  {
   "cell_type": "markdown",
   "id": "4291aad9",
   "metadata": {},
   "source": [
    "1. Split the dataset into X and Y and into train and test:"
   ]
  },
  {
   "cell_type": "code",
   "execution_count": 911,
   "id": "54f5c986",
   "metadata": {},
   "outputs": [],
   "source": [
    "# X-y-split\n",
    "y = df2['rented_month']\n",
    "X = df2.drop('rented_month', axis=1)"
   ]
  },
  {
   "cell_type": "code",
   "execution_count": 912,
   "id": "b98a091c",
   "metadata": {},
   "outputs": [
    {
     "name": "stdout",
     "output_type": "stream",
     "text": [
      "X_train dataset size:  (800, 10)\n",
      "y_train dataset size:  (800,)\n",
      "X_test dataset size:  (200, 10)\n",
      "y_test dataset size:  (200,)\n"
     ]
    }
   ],
   "source": [
    "#Test train split\n",
    "X_train, X_test, y_train, y_test = train_test_split(X, y, test_size=0.2, random_state=1337)\n",
    "    \n",
    "print('X_train dataset size: ', X_train.shape)\n",
    "print('y_train dataset size: ', y_train.shape)\n",
    "print('X_test dataset size: ', X_test.shape)\n",
    "print('y_test dataset size: ', y_test.shape)"
   ]
  },
  {
   "cell_type": "code",
   "execution_count": 913,
   "id": "0eed831a",
   "metadata": {},
   "outputs": [],
   "source": [
    "# Scale numerical data\n",
    "X_train_num = X_train.select_dtypes(include = np.number)\n",
    "    \n",
    "transformer = MinMaxScaler().fit(X_train_num)\n",
    "X_train_normalized = transformer.transform(X_train_num)\n",
    "X_train_norm = pd.DataFrame(X_train_normalized, columns = X_train_num.columns)"
   ]
  },
  {
   "cell_type": "code",
   "execution_count": 914,
   "id": "fc0946e1",
   "metadata": {},
   "outputs": [],
   "source": [
    "# Scale categorical data\n",
    "X_train_categorical = X_train.select_dtypes(include = object)\n",
    "\n",
    "X_train_cat = pd.get_dummies(X_train_categorical, \n",
    "                             columns=['rating', 'category', 'special_features1','special_features2','special_features3','special_features4'], \n",
    "                             drop_first=True)"
   ]
  },
  {
   "cell_type": "code",
   "execution_count": 915,
   "id": "49856d30",
   "metadata": {},
   "outputs": [],
   "source": [
    "#Finally, concatenate the (normalized) numerical and (encoded) categorical data\n",
    "X_train_transformed = np.concatenate([X_train_norm, X_train_cat], axis=1)"
   ]
  },
  {
   "cell_type": "markdown",
   "id": "ab5a6f84",
   "metadata": {},
   "source": [
    "2. Select model"
   ]
  },
  {
   "cell_type": "code",
   "execution_count": 916,
   "id": "571c8df3",
   "metadata": {},
   "outputs": [],
   "source": [
    "from sklearn.linear_model import LogisticRegression\n",
    "classification = LogisticRegression(random_state=0, solver='lbfgs',\n",
    "                  multi_class='multinomial').fit(X_train_transformed, y_train)"
   ]
  },
  {
   "cell_type": "code",
   "execution_count": 917,
   "id": "3214aff9",
   "metadata": {},
   "outputs": [],
   "source": [
    "classification = LogisticRegression(random_state=0, solver='saga',\n",
    "                  multi_class='multinomial').fit(X_train_transformed, y_train)"
   ]
  },
  {
   "cell_type": "markdown",
   "id": "7dc643b6",
   "metadata": {},
   "source": [
    "#### solver{‘newton-cg’, ‘lbfgs’, ‘liblinear’, ‘sag’, ‘saga’}, default=’lbfgs’\n",
    "\n",
    "Algorithm to use in the optimization problem. Default is ‘lbfgs’. To choose a solver, you might want to consider the following aspects:\n",
    "\n",
    " - For small datasets, ‘liblinear’ is a good choice, whereas ‘sag’ and ‘saga’ are faster for large ones;\n",
    " - For multiclass problems, only ‘newton-cg’, ‘sag’, ‘saga’ and ‘lbfgs’ handle multinomial loss;\n",
    " - ‘liblinear’ is limited to one-versus-rest schemes."
   ]
  },
  {
   "cell_type": "markdown",
   "id": "79b430cd",
   "metadata": {},
   "source": [
    "7. Scale numeric test data"
   ]
  },
  {
   "cell_type": "code",
   "execution_count": 918,
   "id": "da721879",
   "metadata": {},
   "outputs": [],
   "source": [
    "# split test data into numerical and categorical\n",
    "X_test_num = X_test.select_dtypes(include = np.number)\n",
    "X_test_categorical = X_test.select_dtypes(include = object)"
   ]
  },
  {
   "cell_type": "code",
   "execution_count": 919,
   "id": "98c6aca4",
   "metadata": {},
   "outputs": [],
   "source": [
    "# Scale numerical data\n",
    "# we use the transformer that was trained on the training data\n",
    "X_test_normalized = transformer.transform(X_test_num)\n",
    "X_test_norm = pd.DataFrame(X_test_normalized)"
   ]
  },
  {
   "cell_type": "code",
   "execution_count": 920,
   "id": "78a5ebd8",
   "metadata": {},
   "outputs": [],
   "source": [
    "# Scale categorical data - X_train\n",
    "    \n",
    "X_test_cat = pd.get_dummies(X_test_categorical,\n",
    "                            columns=['rating', 'category', 'special_features1','special_features2','special_features3','special_features4'],\n",
    "                            drop_first=True)\n",
    "    "
   ]
  },
  {
   "cell_type": "code",
   "execution_count": 921,
   "id": "30d5b3cf",
   "metadata": {},
   "outputs": [],
   "source": [
    "#Finally, concatenate the (normalized) numerical and (encoded) categorical data\n",
    "X_test_transformed = np.concatenate([X_test_norm, X_test_cat], axis=1)"
   ]
  },
  {
   "cell_type": "code",
   "execution_count": 922,
   "id": "c60ad509",
   "metadata": {},
   "outputs": [
    {
     "data": {
      "text/plain": [
       "[('rating_NC-17', 'rating_NC-17'),\n",
       " ('rating_PG', 'rating_PG'),\n",
       " ('rating_PG-13', 'rating_PG-13'),\n",
       " ('rating_R', 'rating_R'),\n",
       " ('category_Animation', 'category_Animation'),\n",
       " ('category_Children', 'category_Children'),\n",
       " ('category_Classics', 'category_Classics'),\n",
       " ('category_Comedy', 'category_Comedy'),\n",
       " ('category_Documentary', 'category_Documentary'),\n",
       " ('category_Drama', 'category_Drama'),\n",
       " ('category_Family', 'category_Family'),\n",
       " ('category_Foreign', 'category_Foreign'),\n",
       " ('category_Games', 'category_Games'),\n",
       " ('category_Horror', 'category_Horror'),\n",
       " ('category_Music', 'category_Music'),\n",
       " ('category_New', 'category_New'),\n",
       " ('category_Sci-Fi', 'category_Sci-Fi'),\n",
       " ('category_Sports', 'category_Sports'),\n",
       " ('category_Travel', 'category_Travel'),\n",
       " ('special_features1_Commentaries', 'special_features1_Commentaries'),\n",
       " ('special_features1_Deleted Scenes', 'special_features1_Deleted Scenes'),\n",
       " ('special_features1_Trailers', 'special_features1_Trailers'),\n",
       " ('special_features2_Commentaries', 'special_features2_Commentaries'),\n",
       " ('special_features2_Deleted Scenes', 'special_features2_Deleted Scenes'),\n",
       " ('special_features2_none', 'special_features2_none'),\n",
       " ('special_features3_Deleted Scenes', 'special_features3_Deleted Scenes'),\n",
       " ('special_features3_none', 'special_features3_none'),\n",
       " ('special_features4_none', 'special_features4_none')]"
      ]
     },
     "metadata": {},
     "output_type": "display_data"
    }
   ],
   "source": [
    "# Check if columns are the same in both data sets: train and test\n",
    "display(list(zip(list(X_train_cat.columns),list(X_test_cat.columns))))"
   ]
  },
  {
   "cell_type": "markdown",
   "id": "f578ed30",
   "metadata": {},
   "source": [
    "### Step 6: Evaluate the Model’s Performance\n",
    "\n"
   ]
  },
  {
   "cell_type": "code",
   "execution_count": 923,
   "id": "281d7670",
   "metadata": {},
   "outputs": [
    {
     "data": {
      "text/plain": [
       "0.755"
      ]
     },
     "execution_count": 923,
     "metadata": {},
     "output_type": "execute_result"
    }
   ],
   "source": [
    "y_pred = classification.predict(X_test_transformed)\n",
    "classification.score(X_test_transformed, y_test)"
   ]
  },
  {
   "cell_type": "code",
   "execution_count": 924,
   "id": "bad1df0f",
   "metadata": {},
   "outputs": [
    {
     "name": "stdout",
     "output_type": "stream",
     "text": [
      "1    138\n",
      "0     62\n",
      "Name: rented_month, dtype: int64\n"
     ]
    }
   ],
   "source": [
    "print(y_test.value_counts())"
   ]
  },
  {
   "cell_type": "code",
   "execution_count": 925,
   "id": "fcd58abf",
   "metadata": {},
   "outputs": [
    {
     "data": {
      "text/plain": [
       "1    189\n",
       "0     11\n",
       "dtype: int64"
      ]
     },
     "execution_count": 925,
     "metadata": {},
     "output_type": "execute_result"
    }
   ],
   "source": [
    "pd.Series(predictions).value_counts()"
   ]
  },
  {
   "cell_type": "code",
   "execution_count": 926,
   "id": "971b1618",
   "metadata": {},
   "outputs": [
    {
     "name": "stdout",
     "output_type": "stream",
     "text": [
      "Accuracy:  0.755\n",
      "Recall:  0.8478260869565217\n",
      "Precision:  0.8068965517241379\n",
      "CL Report:                precision    recall  f1-score   support\n",
      "\n",
      "           0       0.62      0.55      0.58        62\n",
      "           1       0.81      0.85      0.83       138\n",
      "\n",
      "    accuracy                           0.76       200\n",
      "   macro avg       0.71      0.70      0.70       200\n",
      "weighted avg       0.75      0.76      0.75       200\n",
      "\n"
     ]
    }
   ],
   "source": [
    "print('Accuracy: ',accuracy_score(y_test, y_pred))\n",
    "print('Recall: ',recall_score(y_test, y_pred, zero_division=1))\n",
    "print('Precision: ',precision_score(y_test, y_pred, zero_division=1))\n",
    "print('CL Report: ',classification_report(y_test, y_pred, zero_division=1))"
   ]
  },
  {
   "cell_type": "code",
   "execution_count": 927,
   "id": "c4052906",
   "metadata": {},
   "outputs": [
    {
     "data": {
      "text/plain": [
       "array([[ 11,  51],\n",
       "       [  0, 138]])"
      ]
     },
     "execution_count": 927,
     "metadata": {},
     "output_type": "execute_result"
    }
   ],
   "source": [
    "from sklearn.metrics import confusion_matrix\n",
    "confusion_matrix(y_test, predictions)"
   ]
  },
  {
   "cell_type": "code",
   "execution_count": 928,
   "id": "239c0073",
   "metadata": {},
   "outputs": [],
   "source": [
    "# predicted | A | B |\n",
    "# -------------------\n",
    "# actual  A | + |  |  \n",
    "# --------------------\n",
    "#         B |   | + | "
   ]
  },
  {
   "cell_type": "code",
   "execution_count": 929,
   "id": "cbfec24d",
   "metadata": {},
   "outputs": [
    {
     "data": {
      "text/plain": [
       "0.65"
      ]
     },
     "execution_count": 929,
     "metadata": {},
     "output_type": "execute_result"
    }
   ],
   "source": [
    "from sklearn import neighbors\n",
    "clf = neighbors.KNeighborsClassifier(n_neighbors=5, weights='uniform')\n",
    "clf.fit(X_train_transformed, y_train)\n",
    "predictions_clf = clf.predict(X_test_transformed)\n",
    "clf.score(X_test_transformed, y_test)"
   ]
  },
  {
   "cell_type": "markdown",
   "id": "1db0a90f",
   "metadata": {},
   "source": [
    "### (BONUS)\n",
    "\n",
    "1. Now that you have your model, trained and tested, you are able to predict which films will be rented in June.\n",
    "2. Create a query or queries to extract the same information you used to build your prediction model.\n",
    "3. Read the data into a Pandas dataframe.\n",
    "4. Analyze extracted features and transform them. You may need to encode some categorical variables, or scale numerical variables.\n",
    "5. Make your predictions using your previous model."
   ]
  },
  {
   "cell_type": "code",
   "execution_count": 930,
   "id": "49322462",
   "metadata": {},
   "outputs": [],
   "source": [
    "def cleanup(x):\n",
    "    \n",
    "    list1 = []\n",
    "    \n",
    "    x = df.copy()\n",
    "    for i in x['month']:\n",
    "        if i == 6:\n",
    "            list1.append(1)\n",
    "        else:\n",
    "            list1.append(0)\n",
    "    \n",
    "    \n",
    "    x['rented_month'] = list1\n",
    "    \n",
    "    x = x.pivot_table(index= ['title','language','rental_duration','rental_rate','length','rating','special_features','category'], values = ['rented_month','film_id'], aggfunc = {'rented_month':max,'film_id':'count'}).reset_index()\n",
    "    x.rename(columns={\"film_id\": \"count_rentals\"}, inplace=True)\n",
    "    \n",
    "    x = x.drop(['title','language'],axis = 1)\n",
    "    x[['special_features1', 'special_features2','special_features3','special_features4']] = x['special_features'].str.split(',', expand=True)\n",
    "    \n",
    "    x[['special_features2', 'special_features3','special_features4']] = x[['special_features2', 'special_features3','special_features4']].fillna('none')\n",
    "    x = x.drop('special_features',axis =1)\n",
    "    \n",
    "    \n",
    "    return x"
   ]
  },
  {
   "cell_type": "code",
   "execution_count": 931,
   "id": "7751711a",
   "metadata": {},
   "outputs": [],
   "source": [
    "df_June = cleanup(df_June)"
   ]
  },
  {
   "cell_type": "code",
   "execution_count": 932,
   "id": "5d1776a8",
   "metadata": {},
   "outputs": [
    {
     "data": {
      "text/plain": [
       "(1000, 11)"
      ]
     },
     "execution_count": 932,
     "metadata": {},
     "output_type": "execute_result"
    }
   ],
   "source": [
    "df_June.shape"
   ]
  },
  {
   "cell_type": "code",
   "execution_count": 933,
   "id": "0a549ee4",
   "metadata": {},
   "outputs": [
    {
     "data": {
      "text/plain": [
       "rental_duration      0\n",
       "rental_rate          0\n",
       "length               0\n",
       "rating               0\n",
       "category             0\n",
       "count_rentals        0\n",
       "rented_month         0\n",
       "special_features1    0\n",
       "special_features2    0\n",
       "special_features3    0\n",
       "special_features4    0\n",
       "dtype: int64"
      ]
     },
     "execution_count": 933,
     "metadata": {},
     "output_type": "execute_result"
    }
   ],
   "source": [
    "df_June.isna().sum()"
   ]
  },
  {
   "cell_type": "code",
   "execution_count": 934,
   "id": "fb09bb95",
   "metadata": {},
   "outputs": [],
   "source": [
    "# X-y-split\n",
    "y = df_June['rented_month']\n",
    "X = df_June.drop('rented_month', axis=1)"
   ]
  },
  {
   "cell_type": "code",
   "execution_count": 935,
   "id": "5af6e24a",
   "metadata": {},
   "outputs": [],
   "source": [
    "# Scale numerical data\n",
    "X_num = X.select_dtypes(include = np.number)\n",
    "\n",
    "X_normalized = transformer.transform(X_num)\n",
    "X_norm = pd.DataFrame(X_normalized, columns = X_train_num.columns)"
   ]
  },
  {
   "cell_type": "code",
   "execution_count": 937,
   "id": "c145f45f",
   "metadata": {},
   "outputs": [],
   "source": [
    "# Scale categorical data - X_train\n",
    "X_categorical = X.select_dtypes(include = object)\n",
    "X_cat = pd.get_dummies(X_categorical, \n",
    "                       columns=['rating', 'category', 'special_features1','special_features2','special_features3','special_features4'],\n",
    "                        drop_first=True)"
   ]
  },
  {
   "cell_type": "code",
   "execution_count": 939,
   "id": "f334b4a9",
   "metadata": {},
   "outputs": [],
   "source": [
    "#Finally, concatenate the (normalized) numerical and (encoded) categorical data\n",
    "X_transformed = np.concatenate([X_norm, X_cat], axis=1)"
   ]
  },
  {
   "cell_type": "code",
   "execution_count": 940,
   "id": "502acd95",
   "metadata": {},
   "outputs": [
    {
     "data": {
      "text/plain": [
       "0.823"
      ]
     },
     "execution_count": 940,
     "metadata": {},
     "output_type": "execute_result"
    }
   ],
   "source": [
    "y_pred_June = classification.predict(X_transformed)\n",
    "classification.score(X_transformed, y)"
   ]
  },
  {
   "cell_type": "code",
   "execution_count": 941,
   "id": "1231d0cd",
   "metadata": {},
   "outputs": [
    {
     "name": "stdout",
     "output_type": "stream",
     "text": [
      "Accuracy:  0.823\n",
      "Recall:  0.8155555555555556\n",
      "Precision:  0.9852348993288591\n",
      "CL Report:                precision    recall  f1-score   support\n",
      "\n",
      "           0       0.35      0.89      0.50       100\n",
      "           1       0.99      0.82      0.89       900\n",
      "\n",
      "    accuracy                           0.82      1000\n",
      "   macro avg       0.67      0.85      0.70      1000\n",
      "weighted avg       0.92      0.82      0.85      1000\n",
      "\n"
     ]
    }
   ],
   "source": [
    "print('Accuracy: ',accuracy_score(y, y_pred_June))\n",
    "print('Recall: ',recall_score(y, y_pred_June, zero_division=1))\n",
    "print('Precision: ',precision_score(y, y_pred_June, zero_division=1))\n",
    "print('CL Report: ',classification_report(y, y_pred_June, zero_division=1))"
   ]
  },
  {
   "cell_type": "code",
   "execution_count": null,
   "id": "8a25093f",
   "metadata": {},
   "outputs": [],
   "source": []
  },
  {
   "cell_type": "code",
   "execution_count": null,
   "id": "e4f479ff",
   "metadata": {},
   "outputs": [],
   "source": []
  }
 ],
 "metadata": {
  "kernelspec": {
   "display_name": "Python 3 (ipykernel)",
   "language": "python",
   "name": "python3"
  },
  "language_info": {
   "codemirror_mode": {
    "name": "ipython",
    "version": 3
   },
   "file_extension": ".py",
   "mimetype": "text/x-python",
   "name": "python",
   "nbconvert_exporter": "python",
   "pygments_lexer": "ipython3",
   "version": "3.9.12"
  }
 },
 "nbformat": 4,
 "nbformat_minor": 5
}
